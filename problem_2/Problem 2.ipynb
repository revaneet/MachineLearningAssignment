{
 "cells": [
  {
   "cell_type": "code",
   "execution_count": 88,
   "metadata": {},
   "outputs": [],
   "source": [
    "import pandas as pd\n",
    "from sklearn import metrics\n",
    "import seaborn as sns\n",
    "import numpy as np\n",
    "import matplotlib.pyplot as plt\n",
    "import sklearn\n",
    "from sklearn.model_selection import train_test_split\n",
    "from sklearn.preprocessing import LabelEncoder,OneHotEncoder\n",
    "from sklearn.linear_model import LinearRegression\n",
    "from sklearn.preprocessing import StandardScaler\n",
    "\n",
    "%matplotlib inline\n",
    "sns.set_style('whitegrid')"
   ]
  },
  {
   "cell_type": "code",
   "execution_count": 76,
   "metadata": {},
   "outputs": [
    {
     "data": {
      "text/html": [
       "<div>\n",
       "<style scoped>\n",
       "    .dataframe tbody tr th:only-of-type {\n",
       "        vertical-align: middle;\n",
       "    }\n",
       "\n",
       "    .dataframe tbody tr th {\n",
       "        vertical-align: top;\n",
       "    }\n",
       "\n",
       "    .dataframe thead th {\n",
       "        text-align: right;\n",
       "    }\n",
       "</style>\n",
       "<table border=\"1\" class=\"dataframe\">\n",
       "  <thead>\n",
       "    <tr style=\"text-align: right;\">\n",
       "      <th></th>\n",
       "      <th>srno</th>\n",
       "      <th>hubid</th>\n",
       "      <th>hubpincode</th>\n",
       "      <th>pickuppartnerid</th>\n",
       "      <th>deliverypartnerid</th>\n",
       "      <th>insuranceCompanyId</th>\n",
       "      <th>custpincode</th>\n",
       "      <th>servicecntrid</th>\n",
       "      <th>tat_in_days</th>\n",
       "    </tr>\n",
       "  </thead>\n",
       "  <tbody>\n",
       "    <tr>\n",
       "      <th>srno</th>\n",
       "      <td>1.000000</td>\n",
       "      <td>0.277127</td>\n",
       "      <td>-0.026209</td>\n",
       "      <td>0.082192</td>\n",
       "      <td>0.011729</td>\n",
       "      <td>0.039475</td>\n",
       "      <td>-0.011257</td>\n",
       "      <td>0.125644</td>\n",
       "      <td>-0.193610</td>\n",
       "    </tr>\n",
       "    <tr>\n",
       "      <th>hubid</th>\n",
       "      <td>0.277127</td>\n",
       "      <td>1.000000</td>\n",
       "      <td>-0.055715</td>\n",
       "      <td>0.033957</td>\n",
       "      <td>-0.001304</td>\n",
       "      <td>-0.151538</td>\n",
       "      <td>-0.022918</td>\n",
       "      <td>0.451190</td>\n",
       "      <td>-0.121613</td>\n",
       "    </tr>\n",
       "    <tr>\n",
       "      <th>hubpincode</th>\n",
       "      <td>-0.026209</td>\n",
       "      <td>-0.055715</td>\n",
       "      <td>1.000000</td>\n",
       "      <td>-0.028212</td>\n",
       "      <td>-0.020470</td>\n",
       "      <td>-0.088960</td>\n",
       "      <td>0.926211</td>\n",
       "      <td>0.201244</td>\n",
       "      <td>-0.001505</td>\n",
       "    </tr>\n",
       "    <tr>\n",
       "      <th>pickuppartnerid</th>\n",
       "      <td>0.082192</td>\n",
       "      <td>0.033957</td>\n",
       "      <td>-0.028212</td>\n",
       "      <td>1.000000</td>\n",
       "      <td>0.243320</td>\n",
       "      <td>0.088534</td>\n",
       "      <td>-0.053867</td>\n",
       "      <td>0.039964</td>\n",
       "      <td>-0.085485</td>\n",
       "    </tr>\n",
       "    <tr>\n",
       "      <th>deliverypartnerid</th>\n",
       "      <td>0.011729</td>\n",
       "      <td>-0.001304</td>\n",
       "      <td>-0.020470</td>\n",
       "      <td>0.243320</td>\n",
       "      <td>1.000000</td>\n",
       "      <td>0.020992</td>\n",
       "      <td>-0.029602</td>\n",
       "      <td>0.018962</td>\n",
       "      <td>-0.072986</td>\n",
       "    </tr>\n",
       "    <tr>\n",
       "      <th>insuranceCompanyId</th>\n",
       "      <td>0.039475</td>\n",
       "      <td>-0.151538</td>\n",
       "      <td>-0.088960</td>\n",
       "      <td>0.088534</td>\n",
       "      <td>0.020992</td>\n",
       "      <td>1.000000</td>\n",
       "      <td>-0.094457</td>\n",
       "      <td>-0.139533</td>\n",
       "      <td>-0.033617</td>\n",
       "    </tr>\n",
       "    <tr>\n",
       "      <th>custpincode</th>\n",
       "      <td>-0.011257</td>\n",
       "      <td>-0.022918</td>\n",
       "      <td>0.926211</td>\n",
       "      <td>-0.053867</td>\n",
       "      <td>-0.029602</td>\n",
       "      <td>-0.094457</td>\n",
       "      <td>1.000000</td>\n",
       "      <td>0.207607</td>\n",
       "      <td>0.048805</td>\n",
       "    </tr>\n",
       "    <tr>\n",
       "      <th>servicecntrid</th>\n",
       "      <td>0.125644</td>\n",
       "      <td>0.451190</td>\n",
       "      <td>0.201244</td>\n",
       "      <td>0.039964</td>\n",
       "      <td>0.018962</td>\n",
       "      <td>-0.139533</td>\n",
       "      <td>0.207607</td>\n",
       "      <td>1.000000</td>\n",
       "      <td>-0.169008</td>\n",
       "    </tr>\n",
       "    <tr>\n",
       "      <th>tat_in_days</th>\n",
       "      <td>-0.193610</td>\n",
       "      <td>-0.121613</td>\n",
       "      <td>-0.001505</td>\n",
       "      <td>-0.085485</td>\n",
       "      <td>-0.072986</td>\n",
       "      <td>-0.033617</td>\n",
       "      <td>0.048805</td>\n",
       "      <td>-0.169008</td>\n",
       "      <td>1.000000</td>\n",
       "    </tr>\n",
       "  </tbody>\n",
       "</table>\n",
       "</div>"
      ],
      "text/plain": [
       "                        srno     hubid  hubpincode  pickuppartnerid  \\\n",
       "srno                1.000000  0.277127   -0.026209         0.082192   \n",
       "hubid               0.277127  1.000000   -0.055715         0.033957   \n",
       "hubpincode         -0.026209 -0.055715    1.000000        -0.028212   \n",
       "pickuppartnerid     0.082192  0.033957   -0.028212         1.000000   \n",
       "deliverypartnerid   0.011729 -0.001304   -0.020470         0.243320   \n",
       "insuranceCompanyId  0.039475 -0.151538   -0.088960         0.088534   \n",
       "custpincode        -0.011257 -0.022918    0.926211        -0.053867   \n",
       "servicecntrid       0.125644  0.451190    0.201244         0.039964   \n",
       "tat_in_days        -0.193610 -0.121613   -0.001505        -0.085485   \n",
       "\n",
       "                    deliverypartnerid  insuranceCompanyId  custpincode  \\\n",
       "srno                         0.011729            0.039475    -0.011257   \n",
       "hubid                       -0.001304           -0.151538    -0.022918   \n",
       "hubpincode                  -0.020470           -0.088960     0.926211   \n",
       "pickuppartnerid              0.243320            0.088534    -0.053867   \n",
       "deliverypartnerid            1.000000            0.020992    -0.029602   \n",
       "insuranceCompanyId           0.020992            1.000000    -0.094457   \n",
       "custpincode                 -0.029602           -0.094457     1.000000   \n",
       "servicecntrid                0.018962           -0.139533     0.207607   \n",
       "tat_in_days                 -0.072986           -0.033617     0.048805   \n",
       "\n",
       "                    servicecntrid  tat_in_days  \n",
       "srno                     0.125644    -0.193610  \n",
       "hubid                    0.451190    -0.121613  \n",
       "hubpincode               0.201244    -0.001505  \n",
       "pickuppartnerid          0.039964    -0.085485  \n",
       "deliverypartnerid        0.018962    -0.072986  \n",
       "insuranceCompanyId      -0.139533    -0.033617  \n",
       "custpincode              0.207607     0.048805  \n",
       "servicecntrid            1.000000    -0.169008  \n",
       "tat_in_days             -0.169008     1.000000  "
      ]
     },
     "execution_count": 76,
     "metadata": {},
     "output_type": "execute_result"
    }
   ],
   "source": [
    "train=pd.read_csv(\"problem_2_train.csv\")\n",
    "test=pd.read_csv(\"problem_2_test.csv\")\n",
    "train.corr()"
   ]
  },
  {
   "cell_type": "markdown",
   "metadata": {},
   "source": [
    "# Data cleaning "
   ]
  },
  {
   "cell_type": "code",
   "execution_count": 77,
   "metadata": {},
   "outputs": [
    {
     "data": {
      "text/plain": [
       "srno                    int64\n",
       "mobmake                 int64\n",
       "hubid                   int64\n",
       "hubpincode              int64\n",
       "pickuppartnerid         int64\n",
       "deliverypartnerid       int64\n",
       "insuranceCompanyId      int64\n",
       "custpincodecategory     int64\n",
       "claimtype               int64\n",
       "custpincode             int64\n",
       "memcreateddate         object\n",
       "mobilepurchasedate     object\n",
       "claimintdate           object\n",
       "servicecntrid           int64\n",
       "pickupStartdate        object\n",
       "dtype: object"
      ]
     },
     "execution_count": 77,
     "metadata": {},
     "output_type": "execute_result"
    }
   ],
   "source": [
    "labelencoder_X=LabelEncoder()\n",
    "train['mobmake']=labelencoder_X.fit_transform(train['mobmake'])\n",
    "oneHotEncoder=OneHotEncoder(categorical_features=['mobmake']) \n",
    "\n",
    "labelencoder_X=LabelEncoder()\n",
    "train['custpincodecategory']=labelencoder_X.fit_transform(train['custpincodecategory'])\n",
    "oneHotEncoder=OneHotEncoder(categorical_features=['custpincodecategory']) \n",
    "\n",
    "labelencoder_X=LabelEncoder()\n",
    "train['claimtype']=labelencoder_X.fit_transform(train['claimtype'])\n",
    "oneHotEncoder=OneHotEncoder(categorical_features=['claimtype']) \n",
    "\n",
    "labelencoder_X=LabelEncoder()\n",
    "test['mobmake']=labelencoder_X.fit_transform(test['mobmake'])\n",
    "oneHotEncoder=OneHotEncoder(categorical_features=['mobmake']) \n",
    "\n",
    "labelencoder_X=LabelEncoder()\n",
    "test['custpincodecategory']=labelencoder_X.fit_transform(test['custpincodecategory'])\n",
    "oneHotEncoder=OneHotEncoder(categorical_features=['custpincodecategory']) \n",
    "\n",
    "labelencoder_X=LabelEncoder()\n",
    "test['claimtype']=labelencoder_X.fit_transform(test['claimtype'])\n",
    "oneHotEncoder=OneHotEncoder(categorical_features=['claimtype']) \n",
    "\n",
    "test.dtypes"
   ]
  },
  {
   "cell_type": "code",
   "execution_count": 36,
   "metadata": {},
   "outputs": [],
   "source": [
    "# train['memcreateddate'] = pd.to_datetime(train.memcreateddate)\n",
    "# train['memcreatemonth'] = train['memcreateddate'].apply(lambda x: x.month)\n",
    "\n",
    "# train['mobilepurchasedate'] = pd.to_datetime(train.mobilepurchasedate)\n",
    "# train['mobilepurchasemonth'] = train['mobilepurchasedate'].apply(lambda x: x.month)\n",
    "\n",
    "# train['claimintdate'] = pd.to_datetime(train.claimintdate)\n",
    "# train['claimintmonth'] = train['claimintdate'].apply(lambda x: x.month)\n",
    "\n",
    "# train['pickupStartdate'] = pd.to_datetime(train.pickupStartdate)\n",
    "# train['pickupStartmonth'] = train['pickupStartdate'].apply(lambda x: x.month)\n",
    "\n",
    "# train.drop(columns=['memcreateddate', 'mobilepurchasedate', 'claimintdate', 'pickupStartdate'], inplace=True)"
   ]
  },
  {
   "cell_type": "code",
   "execution_count": 72,
   "metadata": {},
   "outputs": [
    {
     "data": {
      "text/plain": [
       "<matplotlib.axes._subplots.AxesSubplot at 0x22891ef6d68>"
      ]
     },
     "execution_count": 72,
     "metadata": {},
     "output_type": "execute_result"
    },
    {
     "data": {
      "image/png": "[encoded data removed]",
      "text/plain": [
       "<matplotlib.figure.Figure at 0x22891637748>"
      ]
     },
     "metadata": {},
     "output_type": "display_data"
    }
   ],
   "source": [
    "plt.figure(figsize=(15,12))\n",
    "sns.heatmap(train.corr())"
   ]
  },
  {
   "cell_type": "code",
   "execution_count": 79,
   "metadata": {},
   "outputs": [],
   "source": [
    "from sklearn.preprocessing import MinMaxScaler\n",
    "scaler = MinMaxScaler()\n",
    "train[['hubid', 'hubpincode', 'pickuppartnerid','deliverypartnerid', 'insuranceCompanyId', 'custpincode','servicecntrid']] = scaler.fit_transform(train[['hubid', 'hubpincode', 'pickuppartnerid','deliverypartnerid', 'insuranceCompanyId', 'custpincode','servicecntrid']])\n",
    "\n",
    "from sklearn.preprocessing import MinMaxScaler\n",
    "scaler = MinMaxScaler()\n",
    "test[['hubid', 'hubpincode', 'pickuppartnerid','deliverypartnerid', 'insuranceCompanyId', 'custpincode','servicecntrid']] = scaler.fit_transform(test[['hubid', 'hubpincode', 'pickuppartnerid','deliverypartnerid', 'insuranceCompanyId', 'custpincode','servicecntrid']])"
   ]
  },
  {
   "cell_type": "code",
   "execution_count": 46,
   "metadata": {},
   "outputs": [
    {
     "data": {
      "text/html": [
       "<div>\n",
       "<style scoped>\n",
       "    .dataframe tbody tr th:only-of-type {\n",
       "        vertical-align: middle;\n",
       "    }\n",
       "\n",
       "    .dataframe tbody tr th {\n",
       "        vertical-align: top;\n",
       "    }\n",
       "\n",
       "    .dataframe thead th {\n",
       "        text-align: right;\n",
       "    }\n",
       "</style>\n",
       "<table border=\"1\" class=\"dataframe\">\n",
       "  <thead>\n",
       "    <tr style=\"text-align: right;\">\n",
       "      <th></th>\n",
       "      <th>srno</th>\n",
       "      <th>mobmake</th>\n",
       "      <th>hubid</th>\n",
       "      <th>hubpincode</th>\n",
       "      <th>pickuppartnerid</th>\n",
       "      <th>deliverypartnerid</th>\n",
       "      <th>insuranceCompanyId</th>\n",
       "      <th>custpincodecategory</th>\n",
       "      <th>claimtype</th>\n",
       "      <th>custpincode</th>\n",
       "      <th>memcreateddate</th>\n",
       "      <th>mobilepurchasedate</th>\n",
       "      <th>claimintdate</th>\n",
       "      <th>servicecntrid</th>\n",
       "      <th>pickupStartdate</th>\n",
       "      <th>tat_in_days</th>\n",
       "    </tr>\n",
       "  </thead>\n",
       "  <tbody>\n",
       "    <tr>\n",
       "      <th>0</th>\n",
       "      <td>2851218</td>\n",
       "      <td>12</td>\n",
       "      <td>0.259259</td>\n",
       "      <td>0.625004</td>\n",
       "      <td>0.756494</td>\n",
       "      <td>0.95102</td>\n",
       "      <td>0.0</td>\n",
       "      <td>1</td>\n",
       "      <td>0</td>\n",
       "      <td>0.584723</td>\n",
       "      <td>2017-04-27</td>\n",
       "      <td>2016-12-02</td>\n",
       "      <td>2018-02-08</td>\n",
       "      <td>0.347100</td>\n",
       "      <td>2018-02-13</td>\n",
       "      <td>5</td>\n",
       "    </tr>\n",
       "    <tr>\n",
       "      <th>1</th>\n",
       "      <td>2838330</td>\n",
       "      <td>8</td>\n",
       "      <td>0.370370</td>\n",
       "      <td>0.282512</td>\n",
       "      <td>0.756494</td>\n",
       "      <td>0.95102</td>\n",
       "      <td>0.0</td>\n",
       "      <td>1</td>\n",
       "      <td>0</td>\n",
       "      <td>0.264320</td>\n",
       "      <td>2017-03-06</td>\n",
       "      <td>2017-03-05</td>\n",
       "      <td>2018-02-04</td>\n",
       "      <td>0.383128</td>\n",
       "      <td>2018-02-08</td>\n",
       "      <td>12</td>\n",
       "    </tr>\n",
       "    <tr>\n",
       "      <th>2</th>\n",
       "      <td>2835781</td>\n",
       "      <td>8</td>\n",
       "      <td>0.074074</td>\n",
       "      <td>0.137522</td>\n",
       "      <td>0.756494</td>\n",
       "      <td>0.95102</td>\n",
       "      <td>1.0</td>\n",
       "      <td>1</td>\n",
       "      <td>0</td>\n",
       "      <td>0.128660</td>\n",
       "      <td>2018-02-01</td>\n",
       "      <td>2018-01-27</td>\n",
       "      <td>2018-02-03</td>\n",
       "      <td>0.333919</td>\n",
       "      <td>2018-02-12</td>\n",
       "      <td>9</td>\n",
       "    </tr>\n",
       "    <tr>\n",
       "      <th>3</th>\n",
       "      <td>2838589</td>\n",
       "      <td>11</td>\n",
       "      <td>0.074074</td>\n",
       "      <td>0.137522</td>\n",
       "      <td>0.756494</td>\n",
       "      <td>0.95102</td>\n",
       "      <td>1.0</td>\n",
       "      <td>2</td>\n",
       "      <td>0</td>\n",
       "      <td>0.145012</td>\n",
       "      <td>2018-01-17</td>\n",
       "      <td>2018-01-31</td>\n",
       "      <td>2018-02-04</td>\n",
       "      <td>0.073814</td>\n",
       "      <td>2018-02-14</td>\n",
       "      <td>9</td>\n",
       "    </tr>\n",
       "    <tr>\n",
       "      <th>4</th>\n",
       "      <td>2855214</td>\n",
       "      <td>12</td>\n",
       "      <td>0.777778</td>\n",
       "      <td>0.137519</td>\n",
       "      <td>0.756494</td>\n",
       "      <td>0.95102</td>\n",
       "      <td>0.0</td>\n",
       "      <td>1</td>\n",
       "      <td>0</td>\n",
       "      <td>0.235410</td>\n",
       "      <td>2018-01-23</td>\n",
       "      <td>2018-01-20</td>\n",
       "      <td>2018-02-09</td>\n",
       "      <td>0.502636</td>\n",
       "      <td>2018-02-14</td>\n",
       "      <td>8</td>\n",
       "    </tr>\n",
       "  </tbody>\n",
       "</table>\n",
       "</div>"
      ],
      "text/plain": [
       "      srno  mobmake     hubid  hubpincode  pickuppartnerid  deliverypartnerid  \\\n",
       "0  2851218       12  0.259259    0.625004         0.756494            0.95102   \n",
       "1  2838330        8  0.370370    0.282512         0.756494            0.95102   \n",
       "2  2835781        8  0.074074    0.137522         0.756494            0.95102   \n",
       "3  2838589       11  0.074074    0.137522         0.756494            0.95102   \n",
       "4  2855214       12  0.777778    0.137519         0.756494            0.95102   \n",
       "\n",
       "   insuranceCompanyId  custpincodecategory  claimtype  custpincode  \\\n",
       "0                 0.0                    1          0     0.584723   \n",
       "1                 0.0                    1          0     0.264320   \n",
       "2                 1.0                    1          0     0.128660   \n",
       "3                 1.0                    2          0     0.145012   \n",
       "4                 0.0                    1          0     0.235410   \n",
       "\n",
       "  memcreateddate mobilepurchasedate claimintdate  servicecntrid  \\\n",
       "0     2017-04-27         2016-12-02   2018-02-08       0.347100   \n",
       "1     2017-03-06         2017-03-05   2018-02-04       0.383128   \n",
       "2     2018-02-01         2018-01-27   2018-02-03       0.333919   \n",
       "3     2018-01-17         2018-01-31   2018-02-04       0.073814   \n",
       "4     2018-01-23         2018-01-20   2018-02-09       0.502636   \n",
       "\n",
       "  pickupStartdate  tat_in_days  \n",
       "0      2018-02-13            5  \n",
       "1      2018-02-08           12  \n",
       "2      2018-02-12            9  \n",
       "3      2018-02-14            9  \n",
       "4      2018-02-14            8  "
      ]
     },
     "execution_count": 46,
     "metadata": {},
     "output_type": "execute_result"
    }
   ],
   "source": [
    "train.head()\n",
    "# train.info()"
   ]
  },
  {
   "cell_type": "code",
   "execution_count": 48,
   "metadata": {},
   "outputs": [],
   "source": [
    "feature_cols=['srno','mobmake','hubid','hubpincode','pickuppartnerid','deliverypartnerid','insuranceCompanyId','custpincodecategory','claimtype','custpincode','servicecntrid']\n",
    "x=train[feature_cols]"
   ]
  },
  {
   "cell_type": "code",
   "execution_count": 49,
   "metadata": {},
   "outputs": [
    {
     "data": {
      "text/plain": [
       "0     5\n",
       "1    12\n",
       "2     9\n",
       "3     9\n",
       "4     8\n",
       "Name: tat_in_days, dtype: int64"
      ]
     },
     "execution_count": 49,
     "metadata": {},
     "output_type": "execute_result"
    }
   ],
   "source": [
    "y=train['tat_in_days']\n",
    "y.head()"
   ]
  },
  {
   "cell_type": "code",
   "execution_count": 50,
   "metadata": {},
   "outputs": [],
   "source": [
    "x_train, x_test, y_train, y_test = train_test_split(x, y,random_state=1)"
   ]
  },
  {
   "cell_type": "markdown",
   "metadata": {},
   "source": [
    "# Using linear Regression"
   ]
  },
  {
   "cell_type": "code",
   "execution_count": 51,
   "metadata": {},
   "outputs": [
    {
     "data": {
      "text/plain": [
       "4.962035663396029"
      ]
     },
     "execution_count": 51,
     "metadata": {},
     "output_type": "execute_result"
    }
   ],
   "source": [
    "linreg=LinearRegression()\n",
    "linreg.fit(x_train,y_train)\n",
    "list(zip(feature_cols,linreg.coef_))\n",
    "y_pred=linreg.predict(x_test)\n",
    "np.sqrt(metrics.mean_squared_error(y_test,y_pred))"
   ]
  },
  {
   "cell_type": "markdown",
   "metadata": {},
   "source": [
    "# Using Gradient Boosting Regressor"
   ]
  },
  {
   "cell_type": "code",
   "execution_count": 63,
   "metadata": {},
   "outputs": [
    {
     "data": {
      "text/plain": [
       "4.381108475375515"
      ]
     },
     "execution_count": 63,
     "metadata": {},
     "output_type": "execute_result"
    }
   ],
   "source": [
    "from sklearn.ensemble import GradientBoostingRegressor\n",
    "gbrt=GradientBoostingRegressor(n_estimators=600)\n",
    "gbrt.fit(x_train, y_train)\n",
    "y_pred=gbrt.predict(x_test)\n",
    "y_pred=np.sqrt(metrics.mean_squared_error(y_test,y_pred) )"
   ]
  },
  {
   "cell_type": "code",
   "execution_count": 73,
   "metadata": {},
   "outputs": [
    {
     "data": {
      "text/plain": [
       "<matplotlib.axes._subplots.AxesSubplot at 0x228900a3748>"
      ]
     },
     "execution_count": 73,
     "metadata": {},
     "output_type": "execute_result"
    },
    {
     "data": {
      "image/png": "[encoded data removed]",
      "text/plain": [
       "<matplotlib.figure.Figure at 0x228900a3a90>"
      ]
     },
     "metadata": {},
     "output_type": "display_data"
    }
   ],
   "source": [
    "plt.figure(figsize=(10,7))\n",
    "sns.distplot(y_pred, kde=False, bins=50, color='blue')"
   ]
  },
  {
   "cell_type": "code",
   "execution_count": 85,
   "metadata": {},
   "outputs": [],
   "source": [
    "feature_cols=['srno','mobmake','hubid','hubpincode','pickuppartnerid','deliverypartnerid','insuranceCompanyId','custpincodecategory','claimtype','custpincode','servicecntrid']\n",
    "x1=train[feature_cols]\n",
    "\n",
    "x2=test[feature_cols]"
   ]
  },
  {
   "cell_type": "code",
   "execution_count": 84,
   "metadata": {},
   "outputs": [
    {
     "data": {
      "text/plain": [
       "0     5\n",
       "1    12\n",
       "2     9\n",
       "3     9\n",
       "4     8\n",
       "Name: tat_in_days, dtype: int64"
      ]
     },
     "execution_count": 84,
     "metadata": {},
     "output_type": "execute_result"
    }
   ],
   "source": [
    "y1=train['tat_in_days']\n",
    "y1.head()"
   ]
  },
  {
   "cell_type": "code",
   "execution_count": 87,
   "metadata": {},
   "outputs": [
    {
     "data": {
      "text/plain": [
       "array([10.32223123, 13.480585  , 14.59738199, ..., 16.45904455,\n",
       "       14.31660217, 15.61408069])"
      ]
     },
     "execution_count": 87,
     "metadata": {},
     "output_type": "execute_result"
    }
   ],
   "source": [
    "from sklearn.ensemble import GradientBoostingRegressor\n",
    "gbrt=GradientBoostingRegressor(n_estimators=600)\n",
    "gbrt.fit(x1, y1)\n",
    "y_pred=gbrt.predict(x2)\n",
    "y_pred"
   ]
  },
  {
   "cell_type": "code",
   "execution_count": 90,
   "metadata": {},
   "outputs": [
    {
     "data": {
      "text/html": [
       "<div>\n",
       "<style scoped>\n",
       "    .dataframe tbody tr th:only-of-type {\n",
       "        vertical-align: middle;\n",
       "    }\n",
       "\n",
       "    .dataframe tbody tr th {\n",
       "        vertical-align: top;\n",
       "    }\n",
       "\n",
       "    .dataframe thead th {\n",
       "        text-align: right;\n",
       "    }\n",
       "</style>\n",
       "<table border=\"1\" class=\"dataframe\">\n",
       "  <thead>\n",
       "    <tr style=\"text-align: right;\">\n",
       "      <th></th>\n",
       "      <th>srno</th>\n",
       "      <th>mobmake</th>\n",
       "      <th>hubid</th>\n",
       "      <th>hubpincode</th>\n",
       "      <th>pickuppartnerid</th>\n",
       "      <th>deliverypartnerid</th>\n",
       "      <th>insuranceCompanyId</th>\n",
       "      <th>custpincodecategory</th>\n",
       "      <th>claimtype</th>\n",
       "      <th>custpincode</th>\n",
       "      <th>memcreateddate</th>\n",
       "      <th>mobilepurchasedate</th>\n",
       "      <th>claimintdate</th>\n",
       "      <th>servicecntrid</th>\n",
       "      <th>pickupStartdate</th>\n",
       "      <th>prediction</th>\n",
       "    </tr>\n",
       "  </thead>\n",
       "  <tbody>\n",
       "    <tr>\n",
       "      <th>0</th>\n",
       "      <td>2829088</td>\n",
       "      <td>13</td>\n",
       "      <td>0.076923</td>\n",
       "      <td>0.652181</td>\n",
       "      <td>0.756494</td>\n",
       "      <td>0.95102</td>\n",
       "      <td>0.0</td>\n",
       "      <td>1</td>\n",
       "      <td>0</td>\n",
       "      <td>0.654998</td>\n",
       "      <td>2017-07-30</td>\n",
       "      <td>2017-07-27</td>\n",
       "      <td>2018-02-01</td>\n",
       "      <td>0.403339</td>\n",
       "      <td>2018-02-06</td>\n",
       "      <td>10.322231</td>\n",
       "    </tr>\n",
       "    <tr>\n",
       "      <th>1</th>\n",
       "      <td>2829866</td>\n",
       "      <td>10</td>\n",
       "      <td>0.038462</td>\n",
       "      <td>0.000004</td>\n",
       "      <td>0.756494</td>\n",
       "      <td>0.95102</td>\n",
       "      <td>1.0</td>\n",
       "      <td>1</td>\n",
       "      <td>0</td>\n",
       "      <td>0.128679</td>\n",
       "      <td>2017-07-17</td>\n",
       "      <td>2017-01-25</td>\n",
       "      <td>2018-02-01</td>\n",
       "      <td>0.333919</td>\n",
       "      <td>2018-02-08</td>\n",
       "      <td>13.480585</td>\n",
       "    </tr>\n",
       "    <tr>\n",
       "      <th>2</th>\n",
       "      <td>2894489</td>\n",
       "      <td>10</td>\n",
       "      <td>0.076923</td>\n",
       "      <td>0.652181</td>\n",
       "      <td>0.756494</td>\n",
       "      <td>0.95102</td>\n",
       "      <td>1.0</td>\n",
       "      <td>3</td>\n",
       "      <td>0</td>\n",
       "      <td>0.689989</td>\n",
       "      <td>2018-01-12</td>\n",
       "      <td>2018-01-11</td>\n",
       "      <td>2018-02-21</td>\n",
       "      <td>0.397188</td>\n",
       "      <td>2018-02-28</td>\n",
       "      <td>14.597382</td>\n",
       "    </tr>\n",
       "    <tr>\n",
       "      <th>3</th>\n",
       "      <td>2876708</td>\n",
       "      <td>10</td>\n",
       "      <td>0.038462</td>\n",
       "      <td>0.000004</td>\n",
       "      <td>0.756494</td>\n",
       "      <td>0.95102</td>\n",
       "      <td>1.0</td>\n",
       "      <td>2</td>\n",
       "      <td>0</td>\n",
       "      <td>0.292490</td>\n",
       "      <td>2017-08-07</td>\n",
       "      <td>2017-05-21</td>\n",
       "      <td>2018-02-16</td>\n",
       "      <td>0.333919</td>\n",
       "      <td>2018-02-26</td>\n",
       "      <td>17.138081</td>\n",
       "    </tr>\n",
       "    <tr>\n",
       "      <th>4</th>\n",
       "      <td>2890283</td>\n",
       "      <td>13</td>\n",
       "      <td>0.807692</td>\n",
       "      <td>0.420427</td>\n",
       "      <td>0.756494</td>\n",
       "      <td>0.95102</td>\n",
       "      <td>0.0</td>\n",
       "      <td>3</td>\n",
       "      <td>0</td>\n",
       "      <td>0.580046</td>\n",
       "      <td>2017-11-10</td>\n",
       "      <td>2017-09-22</td>\n",
       "      <td>2018-02-20</td>\n",
       "      <td>0.503515</td>\n",
       "      <td>2018-02-23</td>\n",
       "      <td>16.493416</td>\n",
       "    </tr>\n",
       "  </tbody>\n",
       "</table>\n",
       "</div>"
      ],
      "text/plain": [
       "      srno  mobmake     hubid  hubpincode  pickuppartnerid  deliverypartnerid  \\\n",
       "0  2829088       13  0.076923    0.652181         0.756494            0.95102   \n",
       "1  2829866       10  0.038462    0.000004         0.756494            0.95102   \n",
       "2  2894489       10  0.076923    0.652181         0.756494            0.95102   \n",
       "3  2876708       10  0.038462    0.000004         0.756494            0.95102   \n",
       "4  2890283       13  0.807692    0.420427         0.756494            0.95102   \n",
       "\n",
       "   insuranceCompanyId  custpincodecategory  claimtype  custpincode  \\\n",
       "0                 0.0                    1          0     0.654998   \n",
       "1                 1.0                    1          0     0.128679   \n",
       "2                 1.0                    3          0     0.689989   \n",
       "3                 1.0                    2          0     0.292490   \n",
       "4                 0.0                    3          0     0.580046   \n",
       "\n",
       "  memcreateddate mobilepurchasedate claimintdate  servicecntrid  \\\n",
       "0     2017-07-30         2017-07-27   2018-02-01       0.403339   \n",
       "1     2017-07-17         2017-01-25   2018-02-01       0.333919   \n",
       "2     2018-01-12         2018-01-11   2018-02-21       0.397188   \n",
       "3     2017-08-07         2017-05-21   2018-02-16       0.333919   \n",
       "4     2017-11-10         2017-09-22   2018-02-20       0.503515   \n",
       "\n",
       "  pickupStartdate  prediction  \n",
       "0      2018-02-06   10.322231  \n",
       "1      2018-02-08   13.480585  \n",
       "2      2018-02-28   14.597382  \n",
       "3      2018-02-26   17.138081  \n",
       "4      2018-02-23   16.493416  "
      ]
     },
     "execution_count": 90,
     "metadata": {},
     "output_type": "execute_result"
    }
   ],
   "source": [
    "test['prediction']=y_pred\n",
    "test.head()"
   ]
  },
  {
   "cell_type": "code",
   "execution_count": 92,
   "metadata": {},
   "outputs": [],
   "source": [
    "export_csv = test.to_csv (r'C:\\Users\\Ravneet\\Desktop\\Data Analysis and Visualisation\\Assignment 2\\problem_2\\AnswerProblem2.csv', index = None, header=True)"
   ]
  },
  {
   "cell_type": "code",
   "execution_count": null,
   "metadata": {},
   "outputs": [],
   "source": []
  },
  {
   "cell_type": "code",
   "execution_count": null,
   "metadata": {},
   "outputs": [],
   "source": []
  },
  {
   "cell_type": "code",
   "execution_count": null,
   "metadata": {},
   "outputs": [],
   "source": []
  }
 ],
 "metadata": {
  "kernelspec": {
   "display_name": "Python 3",
   "language": "python",
   "name": "python3"
  },
  "language_info": {
   "codemirror_mode": {
    "name": "ipython",
    "version": 3
   },
   "file_extension": ".py",
   "mimetype": "text/x-python",
   "name": "python",
   "nbconvert_exporter": "python",
   "pygments_lexer": "ipython3",
   "version": "3.6.4"
  }
 },
 "nbformat": 4,
 "nbformat_minor": 2
}
